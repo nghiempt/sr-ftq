{
 "cells": [
  {
   "cell_type": "code",
   "execution_count": null,
   "metadata": {},
   "outputs": [],
   "source": [
    "import pandas as pd"
   ]
  },
  {
   "cell_type": "code",
   "execution_count": null,
   "metadata": {},
   "outputs": [],
   "source": [
    "# Load the Excel file\n",
    "xlsx_file = '/Users/nghiempt/Corporation/scientific/sr-ftq/src/resources/dataset.xlsx'  # Replace with the path to your .xlsx file\n",
    "csv_file = '/Users/nghiempt/Corporation/scientific/sr-ftq/src/resources/dataset.csv'      # Replace with the desired path for your .csv file"
   ]
  },
  {
   "cell_type": "code",
   "execution_count": null,
   "metadata": {},
   "outputs": [],
   "source": [
    "# Read the Excel file\n",
    "df = pd.read_excel(xlsx_file)\n",
    "\n",
    "# Save to CSV\n",
    "df.to_csv(csv_file, index=False)"
   ]
  }
 ],
 "metadata": {
  "language_info": {
   "name": "python"
  }
 },
 "nbformat": 4,
 "nbformat_minor": 2
}
